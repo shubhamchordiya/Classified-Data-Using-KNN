{
  "cells": [
    {
      "metadata": {
        "_uuid": "8f2839f25d086af736a60e9eeb907d3b93b6e0e5",
        "_cell_guid": "b1076dfc-b9ad-4769-8c92-a6c4dae69d19",
        "trusted": true
      },
      "cell_type": "code",
      "source": "# This Python 3 environment comes with many helpful analytics libraries installed\n# It is defined by the kaggle/python docker image: https://github.com/kaggle/docker-python\n# For example, here's several helpful packages to load in \n\nimport numpy as np # linear algebra\nimport pandas as pd # data processing, CSV file I/O (e.g. pd.read_csv)\nimport matplotlib.pyplot as plt\nimport seaborn as sns\n%matplotlib inline\n\n# Input data files are available in the \"../input/\" directory.\n# For example, running this (by clicking run or pressing Shift+Enter) will list the files in the input directory\n\nimport os\nprint(os.listdir(\"../input\"))\n\n# Any results you write to the current directory are saved as output.",
      "execution_count": 69,
      "outputs": [
        {
          "output_type": "stream",
          "text": "['Classified Data']\n",
          "name": "stdout"
        }
      ]
    },
    {
      "metadata": {
        "_cell_guid": "79c7e3d0-c299-4dcb-8224-4455121ee9b0",
        "_uuid": "d629ff2d2480ee46fbb7e2d37f6b5fab8052498a",
        "trusted": true
      },
      "cell_type": "code",
      "source": "#read the file\ndf = pd.read_csv(\"../input/Classified Data\")",
      "execution_count": 70,
      "outputs": []
    },
    {
      "metadata": {
        "trusted": true,
        "_uuid": "84a6692e43751b7c7c6cf6126cc5c92d525f33d9"
      },
      "cell_type": "code",
      "source": "df.head()",
      "execution_count": 71,
      "outputs": [
        {
          "output_type": "execute_result",
          "execution_count": 71,
          "data": {
            "text/plain": "   Unnamed: 0       WTT      ...            NXJ  TARGET CLASS\n0           0  0.913917      ...       1.231409             1\n1           1  0.635632      ...       1.492702             0\n2           2  0.721360      ...       1.285597             0\n3           3  1.234204      ...       1.153093             1\n4           4  1.279491      ...       1.419167             1\n\n[5 rows x 12 columns]",
            "text/html": "<div>\n<style scoped>\n    .dataframe tbody tr th:only-of-type {\n        vertical-align: middle;\n    }\n\n    .dataframe tbody tr th {\n        vertical-align: top;\n    }\n\n    .dataframe thead th {\n        text-align: right;\n    }\n</style>\n<table border=\"1\" class=\"dataframe\">\n  <thead>\n    <tr style=\"text-align: right;\">\n      <th></th>\n      <th>Unnamed: 0</th>\n      <th>WTT</th>\n      <th>PTI</th>\n      <th>EQW</th>\n      <th>SBI</th>\n      <th>LQE</th>\n      <th>QWG</th>\n      <th>FDJ</th>\n      <th>PJF</th>\n      <th>HQE</th>\n      <th>NXJ</th>\n      <th>TARGET CLASS</th>\n    </tr>\n  </thead>\n  <tbody>\n    <tr>\n      <th>0</th>\n      <td>0</td>\n      <td>0.913917</td>\n      <td>1.162073</td>\n      <td>0.567946</td>\n      <td>0.755464</td>\n      <td>0.780862</td>\n      <td>0.352608</td>\n      <td>0.759697</td>\n      <td>0.643798</td>\n      <td>0.879422</td>\n      <td>1.231409</td>\n      <td>1</td>\n    </tr>\n    <tr>\n      <th>1</th>\n      <td>1</td>\n      <td>0.635632</td>\n      <td>1.003722</td>\n      <td>0.535342</td>\n      <td>0.825645</td>\n      <td>0.924109</td>\n      <td>0.648450</td>\n      <td>0.675334</td>\n      <td>1.013546</td>\n      <td>0.621552</td>\n      <td>1.492702</td>\n      <td>0</td>\n    </tr>\n    <tr>\n      <th>2</th>\n      <td>2</td>\n      <td>0.721360</td>\n      <td>1.201493</td>\n      <td>0.921990</td>\n      <td>0.855595</td>\n      <td>1.526629</td>\n      <td>0.720781</td>\n      <td>1.626351</td>\n      <td>1.154483</td>\n      <td>0.957877</td>\n      <td>1.285597</td>\n      <td>0</td>\n    </tr>\n    <tr>\n      <th>3</th>\n      <td>3</td>\n      <td>1.234204</td>\n      <td>1.386726</td>\n      <td>0.653046</td>\n      <td>0.825624</td>\n      <td>1.142504</td>\n      <td>0.875128</td>\n      <td>1.409708</td>\n      <td>1.380003</td>\n      <td>1.522692</td>\n      <td>1.153093</td>\n      <td>1</td>\n    </tr>\n    <tr>\n      <th>4</th>\n      <td>4</td>\n      <td>1.279491</td>\n      <td>0.949750</td>\n      <td>0.627280</td>\n      <td>0.668976</td>\n      <td>1.232537</td>\n      <td>0.703727</td>\n      <td>1.115596</td>\n      <td>0.646691</td>\n      <td>1.463812</td>\n      <td>1.419167</td>\n      <td>1</td>\n    </tr>\n  </tbody>\n</table>\n</div>"
          },
          "metadata": {}
        }
      ]
    },
    {
      "metadata": {
        "trusted": true,
        "_uuid": "df69c14e4d6d6b5e23b9fddc37bc2589707a602b"
      },
      "cell_type": "code",
      "source": "df = df.drop(\"Unnamed: 0\", axis=  1)\n",
      "execution_count": 72,
      "outputs": []
    },
    {
      "metadata": {
        "trusted": true,
        "_uuid": "372b10112af1e2553376bee2ab0bf8f60ba14753"
      },
      "cell_type": "code",
      "source": "df.info()",
      "execution_count": 73,
      "outputs": [
        {
          "output_type": "stream",
          "text": "<class 'pandas.core.frame.DataFrame'>\nRangeIndex: 1000 entries, 0 to 999\nData columns (total 11 columns):\nWTT             1000 non-null float64\nPTI             1000 non-null float64\nEQW             1000 non-null float64\nSBI             1000 non-null float64\nLQE             1000 non-null float64\nQWG             1000 non-null float64\nFDJ             1000 non-null float64\nPJF             1000 non-null float64\nHQE             1000 non-null float64\nNXJ             1000 non-null float64\nTARGET CLASS    1000 non-null int64\ndtypes: float64(10), int64(1)\nmemory usage: 86.0 KB\n",
          "name": "stdout"
        }
      ]
    },
    {
      "metadata": {
        "trusted": true,
        "_uuid": "b7f4a2b810afb9d0ea82a3fd137b1a4066e0f4d6"
      },
      "cell_type": "code",
      "source": "df.describe()",
      "execution_count": 74,
      "outputs": [
        {
          "output_type": "execute_result",
          "execution_count": 74,
          "data": {
            "text/plain": "               WTT          PTI      ...               NXJ  TARGET CLASS\ncount  1000.000000  1000.000000      ...       1000.000000    1000.00000\nmean      0.949682     1.114303      ...          1.362725       0.50000\nstd       0.289635     0.257085      ...          0.204225       0.50025\nmin       0.174412     0.441398      ...          0.639693       0.00000\n25%       0.742358     0.942071      ...          1.222623       0.00000\n50%       0.940475     1.118486      ...          1.375368       0.50000\n75%       1.163295     1.307904      ...          1.504832       1.00000\nmax       1.721779     1.833757      ...          1.893950       1.00000\n\n[8 rows x 11 columns]",
            "text/html": "<div>\n<style scoped>\n    .dataframe tbody tr th:only-of-type {\n        vertical-align: middle;\n    }\n\n    .dataframe tbody tr th {\n        vertical-align: top;\n    }\n\n    .dataframe thead th {\n        text-align: right;\n    }\n</style>\n<table border=\"1\" class=\"dataframe\">\n  <thead>\n    <tr style=\"text-align: right;\">\n      <th></th>\n      <th>WTT</th>\n      <th>PTI</th>\n      <th>EQW</th>\n      <th>SBI</th>\n      <th>LQE</th>\n      <th>QWG</th>\n      <th>FDJ</th>\n      <th>PJF</th>\n      <th>HQE</th>\n      <th>NXJ</th>\n      <th>TARGET CLASS</th>\n    </tr>\n  </thead>\n  <tbody>\n    <tr>\n      <th>count</th>\n      <td>1000.000000</td>\n      <td>1000.000000</td>\n      <td>1000.000000</td>\n      <td>1000.000000</td>\n      <td>1000.000000</td>\n      <td>1000.000000</td>\n      <td>1000.000000</td>\n      <td>1000.000000</td>\n      <td>1000.000000</td>\n      <td>1000.000000</td>\n      <td>1000.00000</td>\n    </tr>\n    <tr>\n      <th>mean</th>\n      <td>0.949682</td>\n      <td>1.114303</td>\n      <td>0.834127</td>\n      <td>0.682099</td>\n      <td>1.032336</td>\n      <td>0.943534</td>\n      <td>0.963422</td>\n      <td>1.071960</td>\n      <td>1.158251</td>\n      <td>1.362725</td>\n      <td>0.50000</td>\n    </tr>\n    <tr>\n      <th>std</th>\n      <td>0.289635</td>\n      <td>0.257085</td>\n      <td>0.291554</td>\n      <td>0.229645</td>\n      <td>0.243413</td>\n      <td>0.256121</td>\n      <td>0.255118</td>\n      <td>0.288982</td>\n      <td>0.293738</td>\n      <td>0.204225</td>\n      <td>0.50025</td>\n    </tr>\n    <tr>\n      <th>min</th>\n      <td>0.174412</td>\n      <td>0.441398</td>\n      <td>0.170924</td>\n      <td>0.045027</td>\n      <td>0.315307</td>\n      <td>0.262389</td>\n      <td>0.295228</td>\n      <td>0.299476</td>\n      <td>0.365157</td>\n      <td>0.639693</td>\n      <td>0.00000</td>\n    </tr>\n    <tr>\n      <th>25%</th>\n      <td>0.742358</td>\n      <td>0.942071</td>\n      <td>0.615451</td>\n      <td>0.515010</td>\n      <td>0.870855</td>\n      <td>0.761064</td>\n      <td>0.784407</td>\n      <td>0.866306</td>\n      <td>0.934340</td>\n      <td>1.222623</td>\n      <td>0.00000</td>\n    </tr>\n    <tr>\n      <th>50%</th>\n      <td>0.940475</td>\n      <td>1.118486</td>\n      <td>0.813264</td>\n      <td>0.676835</td>\n      <td>1.035824</td>\n      <td>0.941502</td>\n      <td>0.945333</td>\n      <td>1.065500</td>\n      <td>1.165556</td>\n      <td>1.375368</td>\n      <td>0.50000</td>\n    </tr>\n    <tr>\n      <th>75%</th>\n      <td>1.163295</td>\n      <td>1.307904</td>\n      <td>1.028340</td>\n      <td>0.834317</td>\n      <td>1.198270</td>\n      <td>1.123060</td>\n      <td>1.134852</td>\n      <td>1.283156</td>\n      <td>1.383173</td>\n      <td>1.504832</td>\n      <td>1.00000</td>\n    </tr>\n    <tr>\n      <th>max</th>\n      <td>1.721779</td>\n      <td>1.833757</td>\n      <td>1.722725</td>\n      <td>1.634884</td>\n      <td>1.650050</td>\n      <td>1.666902</td>\n      <td>1.713342</td>\n      <td>1.785420</td>\n      <td>1.885690</td>\n      <td>1.893950</td>\n      <td>1.00000</td>\n    </tr>\n  </tbody>\n</table>\n</div>"
          },
          "metadata": {}
        }
      ]
    },
    {
      "metadata": {
        "_uuid": "06aac4cc586875e304e7250932ca51b292529ee8"
      },
      "cell_type": "markdown",
      "source": "Firstly applying knn for model fitting "
    },
    {
      "metadata": {
        "trusted": true,
        "_uuid": "f0d9472c12e10cf4e00c6a36d1288efa5a1ecbae"
      },
      "cell_type": "code",
      "source": "from sklearn.model_selection import train_test_split",
      "execution_count": 75,
      "outputs": []
    },
    {
      "metadata": {
        "trusted": true,
        "_uuid": "f253a7caa8980d96836cbcb71a757cb6e19ce665"
      },
      "cell_type": "code",
      "source": "#drop trget class from frature\nX = df.drop('TARGET CLASS',axis=1)\ny = df['TARGET CLASS']",
      "execution_count": 76,
      "outputs": []
    },
    {
      "metadata": {
        "trusted": true,
        "_uuid": "f5a5e5307361e5a2a5c4624993227d49d6c95d11"
      },
      "cell_type": "code",
      "source": "#train the model\nX_train,X_test,y_train,y_test = train_test_split(X,y,test_size=0.3,random_state=42)",
      "execution_count": 77,
      "outputs": []
    },
    {
      "metadata": {
        "trusted": true,
        "_uuid": "bfe618ac2fab8fb1b0e4c587d689840e340ec1bc"
      },
      "cell_type": "code",
      "source": "#import knn library\nfrom sklearn.neighbors import KNeighborsClassifier\nknn = KNeighborsClassifier(n_neighbors=1)\n#fit the model\nknn.fit(X_train, y_train)\n#predict the model\ny_pred = knn.predict(X_test)",
      "execution_count": 78,
      "outputs": []
    },
    {
      "metadata": {
        "trusted": true,
        "_uuid": "316309c402d70ed6e936ffc52b0bed839d90b55a"
      },
      "cell_type": "code",
      "source": "from sklearn.metrics import classification_report,confusion_matrix\nprint(classification_report(y_test,y_pred))\nprint(confusion_matrix(y_test,y_pred))\n",
      "execution_count": 79,
      "outputs": [
        {
          "output_type": "stream",
          "text": "              precision    recall  f1-score   support\n\n           0       0.92      0.94      0.93       142\n           1       0.95      0.92      0.94       158\n\n   micro avg       0.93      0.93      0.93       300\n   macro avg       0.93      0.93      0.93       300\nweighted avg       0.93      0.93      0.93       300\n\n[[134   8]\n [ 12 146]]\n",
          "name": "stdout"
        }
      ]
    },
    {
      "metadata": {
        "_uuid": "877a58e10ccf1e2d5d8c0695abb0d08db521db14"
      },
      "cell_type": "markdown",
      "source": "class 0 : for all column excluded 'TARGET CLASS'(feature)\n class 1 : only ' TARGET CLASS'  (target var)   \n    confusion matrix says: class 0 have 34 value & class 1 has 146 value,only 20 value are not fix."
    },
    {
      "metadata": {
        "_uuid": "e992a137aec1b2c8e8cd854a47c897e0c1302041"
      },
      "cell_type": "markdown",
      "source": "***for large dataset, we need to Normalize the data first.***"
    },
    {
      "metadata": {
        "trusted": true,
        "_uuid": "921b4c7fc3a3cd6bc20b217ed5be790c69fbafb9"
      },
      "cell_type": "code",
      "source": "from sklearn.preprocessing import StandardScaler\nscaler = StandardScaler()\n",
      "execution_count": 80,
      "outputs": []
    },
    {
      "metadata": {
        "trusted": true,
        "_uuid": "a704e09e192f811611530b31181d37afd8343632"
      },
      "cell_type": "code",
      "source": "#fit standard scaler\nscaler.fit(df.drop('TARGET CLASS',axis=1))  #drop target class",
      "execution_count": 81,
      "outputs": [
        {
          "output_type": "execute_result",
          "execution_count": 81,
          "data": {
            "text/plain": "StandardScaler(copy=True, with_mean=True, with_std=True)"
          },
          "metadata": {}
        }
      ]
    },
    {
      "metadata": {
        "trusted": true,
        "_uuid": "e982c20199f32d2a3e535b13a819a977202339a1"
      },
      "cell_type": "code",
      "source": "#removing noise\nscaled_features = scaler.transform(df.drop('TARGET CLASS',axis=1))\n",
      "execution_count": 82,
      "outputs": []
    },
    {
      "metadata": {
        "trusted": true,
        "scrolled": true,
        "_uuid": "fdcb3b8207acbba9e1a919d85ac8d0ca9f63821a"
      },
      "cell_type": "code",
      "source": "scaled_features",
      "execution_count": 83,
      "outputs": [
        {
          "output_type": "execute_result",
          "execution_count": 83,
          "data": {
            "text/plain": "array([[-0.12354188,  0.18590747, -0.91343069, ..., -1.48236813,\n        -0.9497194 , -0.64331425],\n       [-1.08483602, -0.43034845, -1.02531333, ..., -0.20224031,\n        -1.82805088,  0.63675862],\n       [-0.78870217,  0.33931821,  0.30151137, ...,  0.28570652,\n        -0.68249379, -0.37784986],\n       ...,\n       [ 0.64177714, -0.51308341, -0.17920486, ..., -2.36249443,\n        -0.81426092,  0.11159651],\n       [ 0.46707241, -0.98278576, -1.46519359, ..., -0.03677699,\n         0.40602453, -0.85567   ],\n       [-0.38765353, -0.59589427, -1.4313981 , ..., -0.56778932,\n         0.3369971 ,  0.01034996]])"
          },
          "metadata": {}
        }
      ]
    },
    {
      "metadata": {
        "trusted": true,
        "_uuid": "59cb83a15e1270ccc5c47aff4cca4e01e95fc94a"
      },
      "cell_type": "code",
      "source": "df_feat = pd.DataFrame(scaled_features,columns=df.columns[:-1])",
      "execution_count": 84,
      "outputs": []
    },
    {
      "metadata": {
        "trusted": true,
        "scrolled": true,
        "_uuid": "773d34729bd52606ab7a5767dd07dbc97ccee542"
      },
      "cell_type": "code",
      "source": "df_feat.head()",
      "execution_count": 85,
      "outputs": [
        {
          "output_type": "execute_result",
          "execution_count": 85,
          "data": {
            "text/plain": "        WTT       PTI       EQW    ...          PJF       HQE       NXJ\n0 -0.123542  0.185907 -0.913431    ...    -1.482368 -0.949719 -0.643314\n1 -1.084836 -0.430348 -1.025313    ...    -0.202240 -1.828051  0.636759\n2 -0.788702  0.339318  0.301511    ...     0.285707 -0.682494 -0.377850\n3  0.982841  1.060193 -0.621399    ...     1.066491  1.241325 -1.026987\n4  1.139275 -0.640392 -0.709819    ...    -1.472352  1.040772  0.276510\n\n[5 rows x 10 columns]",
            "text/html": "<div>\n<style scoped>\n    .dataframe tbody tr th:only-of-type {\n        vertical-align: middle;\n    }\n\n    .dataframe tbody tr th {\n        vertical-align: top;\n    }\n\n    .dataframe thead th {\n        text-align: right;\n    }\n</style>\n<table border=\"1\" class=\"dataframe\">\n  <thead>\n    <tr style=\"text-align: right;\">\n      <th></th>\n      <th>WTT</th>\n      <th>PTI</th>\n      <th>EQW</th>\n      <th>SBI</th>\n      <th>LQE</th>\n      <th>QWG</th>\n      <th>FDJ</th>\n      <th>PJF</th>\n      <th>HQE</th>\n      <th>NXJ</th>\n    </tr>\n  </thead>\n  <tbody>\n    <tr>\n      <th>0</th>\n      <td>-0.123542</td>\n      <td>0.185907</td>\n      <td>-0.913431</td>\n      <td>0.319629</td>\n      <td>-1.033637</td>\n      <td>-2.308375</td>\n      <td>-0.798951</td>\n      <td>-1.482368</td>\n      <td>-0.949719</td>\n      <td>-0.643314</td>\n    </tr>\n    <tr>\n      <th>1</th>\n      <td>-1.084836</td>\n      <td>-0.430348</td>\n      <td>-1.025313</td>\n      <td>0.625388</td>\n      <td>-0.444847</td>\n      <td>-1.152706</td>\n      <td>-1.129797</td>\n      <td>-0.202240</td>\n      <td>-1.828051</td>\n      <td>0.636759</td>\n    </tr>\n    <tr>\n      <th>2</th>\n      <td>-0.788702</td>\n      <td>0.339318</td>\n      <td>0.301511</td>\n      <td>0.755873</td>\n      <td>2.031693</td>\n      <td>-0.870156</td>\n      <td>2.599818</td>\n      <td>0.285707</td>\n      <td>-0.682494</td>\n      <td>-0.377850</td>\n    </tr>\n    <tr>\n      <th>3</th>\n      <td>0.982841</td>\n      <td>1.060193</td>\n      <td>-0.621399</td>\n      <td>0.625299</td>\n      <td>0.452820</td>\n      <td>-0.267220</td>\n      <td>1.750208</td>\n      <td>1.066491</td>\n      <td>1.241325</td>\n      <td>-1.026987</td>\n    </tr>\n    <tr>\n      <th>4</th>\n      <td>1.139275</td>\n      <td>-0.640392</td>\n      <td>-0.709819</td>\n      <td>-0.057175</td>\n      <td>0.822886</td>\n      <td>-0.936773</td>\n      <td>0.596782</td>\n      <td>-1.472352</td>\n      <td>1.040772</td>\n      <td>0.276510</td>\n    </tr>\n  </tbody>\n</table>\n</div>"
          },
          "metadata": {}
        }
      ]
    },
    {
      "metadata": {
        "trusted": true,
        "_uuid": "b71f60c6e00759430f0038fbb484755c4c54d42e"
      },
      "cell_type": "code",
      "source": "X = df_feat  #feature\ny = df['TARGET CLASS']\nX_train,X_test,y_train,y_test = train_test_split(X,y,test_size=0.3,random_state=42)",
      "execution_count": 86,
      "outputs": []
    },
    {
      "metadata": {
        "trusted": true,
        "_uuid": "f160c917bb5510c681ae69495253eb245d720566"
      },
      "cell_type": "code",
      "source": "knn = KNeighborsClassifier(n_neighbors=1)",
      "execution_count": 87,
      "outputs": []
    },
    {
      "metadata": {
        "_uuid": "5ea35c9b59c6aaec692e534c32053020caeb1730"
      },
      "cell_type": "markdown",
      "source": "We will also investigate the model performance based on the k-values after evaluating the model for the default value of 1"
    },
    {
      "metadata": {
        "trusted": true,
        "_uuid": "f52e34e3abdd21d9ba19c4a2eb2907d8123ec97a"
      },
      "cell_type": "code",
      "source": "knn.fit(X_train,y_train)",
      "execution_count": 88,
      "outputs": [
        {
          "output_type": "execute_result",
          "execution_count": 88,
          "data": {
            "text/plain": "KNeighborsClassifier(algorithm='auto', leaf_size=30, metric='minkowski',\n           metric_params=None, n_jobs=None, n_neighbors=1, p=2,\n           weights='uniform')"
          },
          "metadata": {}
        }
      ]
    },
    {
      "metadata": {
        "trusted": true,
        "_uuid": "a7309ff5e6d2d4c83a5e1924ccc5cdf99c18d851"
      },
      "cell_type": "code",
      "source": "y_pred = knn.predict(X_test)",
      "execution_count": 89,
      "outputs": []
    },
    {
      "metadata": {
        "trusted": true,
        "_uuid": "e204c53c63e0941bc237ba557c314dbdf27e5fe1"
      },
      "cell_type": "code",
      "source": "print(classification_report(y_test,y_pred))\nprint(confusion_matrix(y_test,y_pred))",
      "execution_count": 90,
      "outputs": [
        {
          "output_type": "stream",
          "text": "              precision    recall  f1-score   support\n\n           0       0.92      0.94      0.93       142\n           1       0.95      0.93      0.94       158\n\n   micro avg       0.94      0.94      0.94       300\n   macro avg       0.94      0.94      0.94       300\nweighted avg       0.94      0.94      0.94       300\n\n[[134   8]\n [ 11 147]]\n",
          "name": "stdout"
        }
      ]
    },
    {
      "metadata": {
        "_uuid": "2186ab547fd4dfc3d3a228f242cd8829c1902a1c"
      },
      "cell_type": "markdown",
      "source": " **94% accuracy** with class 0 : for all column excluded 'TARGET CLASS'(feature)\n class 1 : only ' TARGET CLASS'  (target var)   \n    confusion matrix says: class 0 have 134 value & class 1 has 147 value,only 19 value are not fix."
    },
    {
      "metadata": {
        "_uuid": "38a26b1534985a71e0e830d70cb0b26ddc22208a"
      },
      "cell_type": "markdown",
      "source": "**ERROR ANALYSIS:**"
    },
    {
      "metadata": {
        "_uuid": "ed9029283de92fb91e326cf17e059d68e7a850f5"
      },
      "cell_type": "markdown",
      "source": "**Elbow Method**  "
    },
    {
      "metadata": {
        "trusted": true,
        "_uuid": "6642b0132a29b8081e65d76a8077485f39716ddb"
      },
      "cell_type": "code",
      "source": "error_rate = []\n\nfor i in range(1,20):\n    knn = KNeighborsClassifier(n_neighbors=i)\n    knn.fit(X_train, y_train)\n    y_pred_i = knn.predict(X_test)\n    error_rate.append(np.mean(y_pred_i != y_test))",
      "execution_count": 113,
      "outputs": []
    },
    {
      "metadata": {
        "trusted": true,
        "scrolled": true,
        "_uuid": "dc13aae485aee3b452d50041066a7e8ec60e270c"
      },
      "cell_type": "code",
      "source": "plt.figure(figsize=(10,5))\nplt.plot(range(1,20),error_rate,color='blue',ls='--',marker='o',markerfacecolor='red', markersize=10)\nplt.title('Error Rate vs K Value')\nplt.xlabel('K')\nplt.ylabel('Error Rate')",
      "execution_count": 114,
      "outputs": [
        {
          "output_type": "execute_result",
          "execution_count": 114,
          "data": {
            "text/plain": "Text(0,0.5,'Error Rate')"
          },
          "metadata": {}
        },
        {
          "output_type": "display_data",
          "data": {
            "text/plain": "<Figure size 720x360 with 1 Axes>",
            "image/png": "[encoded data removed]"
          },
          "metadata": {}
        }
      ]
    },
    {
      "metadata": {
        "_uuid": "aa37f0852ee87f358c839bdc104086e0f1cd3bc8"
      },
      "cell_type": "markdown",
      "source": "We will also investigate the model performance based on the k-values after evaluating the model for the default value of 1 to new k-value 11."
    },
    {
      "metadata": {
        "trusted": true,
        "_uuid": "3a2a5c98fefd4fa895a209a6efdeb2a3d0347bce"
      },
      "cell_type": "code",
      "source": "knn = KNeighborsClassifier(n_neighbors = 11)\nknn.fit(X_train,y_train)",
      "execution_count": 115,
      "outputs": [
        {
          "output_type": "execute_result",
          "execution_count": 115,
          "data": {
            "text/plain": "KNeighborsClassifier(algorithm='auto', leaf_size=30, metric='minkowski',\n           metric_params=None, n_jobs=None, n_neighbors=11, p=2,\n           weights='uniform')"
          },
          "metadata": {}
        }
      ]
    },
    {
      "metadata": {
        "trusted": true,
        "_uuid": "6d482652b5b8c52f2fa25b8598e0581f0c28f222"
      },
      "cell_type": "code",
      "source": "y_pred = knn.predict(X_test)",
      "execution_count": 116,
      "outputs": []
    },
    {
      "metadata": {
        "trusted": true,
        "_uuid": "8c19abe4d1a7a69945108e2917a742ed2c493538"
      },
      "cell_type": "code",
      "source": "print(classification_report(y_test,y_pred))\nprint(confusion_matrix(y_test,y_pred))",
      "execution_count": 117,
      "outputs": [
        {
          "output_type": "stream",
          "text": "              precision    recall  f1-score   support\n\n           0       0.94      0.95      0.95       142\n           1       0.96      0.95      0.95       158\n\n   micro avg       0.95      0.95      0.95       300\n   macro avg       0.95      0.95      0.95       300\nweighted avg       0.95      0.95      0.95       300\n\n[[135   7]\n [  8 150]]\n",
          "name": "stdout"
        }
      ]
    },
    {
      "metadata": {
        "_uuid": "f866451cc907ae70e326f290448b175768b4256b"
      },
      "cell_type": "markdown",
      "source": "**95% accuracy** with \nclass 0 : for all column excluded 'TARGET CLASS'(feature)\n class 1 : only ' TARGET CLASS'  (target var)   \n    confusion matrix says: class 0 have 135 value & class 1 has 150 value,only 15 value are not fix."
    }
  ],
  "metadata": {
    "kernelspec": {
      "display_name": "Python 3",
      "language": "python",
      "name": "python3"
    },
    "language_info": {
      "name": "python",
      "version": "3.6.6",
      "mimetype": "text/x-python",
      "codemirror_mode": {
        "name": "ipython",
        "version": 3
      },
      "pygments_lexer": "ipython3",
      "nbconvert_exporter": "python",
      "file_extension": ".py"
    }
  },
  "nbformat": 4,
  "nbformat_minor": 1
}